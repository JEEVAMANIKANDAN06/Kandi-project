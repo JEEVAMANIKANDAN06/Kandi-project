{
 "cells": [
  {
   "cell_type": "code",
   "execution_count": null,
   "metadata": {},
   "outputs": [],
   "source": [
    "import cv2\n",
    "import numpy as np\n",
    "import tensorflow as tf\n"
   ]
  },
  {
   "cell_type": "code",
   "execution_count": null,
   "metadata": {},
   "outputs": [],
   "source": [
    "\n",
    "generator = tf.keras.models.load_model('path_to_generator_model')\n",
    "def generate_images(generator, latent_dim, num_images=1):\n",
    "    # Generate random latent vectors (input to the generator).\n",
    "    latent_vectors = np.random.normal(0, 1, (num_images, latent_dim))\n",
    "\n",
    "    # Generate images from the latent vectors using the generator model.\n",
    "    generated_images = generator.predict(latent_vectors)\n",
    "\n",
    "    # Convert images from the range [-1, 1] to [0, 255] (assuming uint8 image format).\n",
    "    generated_images = ((generated_images + 1) * 127.5).astype(np.uint8)\n",
    "\n",
    "    return generated_images\n",
    "\n",
    "latent_dim = 100\n",
    "generated_images = generate_images(generator, latent_dim, num_images=5)\n",
    "for i, image in enumerate(generated_images):\n",
    "    cv2.imshow(f\"Generated Image {i+1}\", cv2.cvtColor(image, cv2.COLOR_RGB2BGR))\n",
    "\n",
    "cv2.waitKey(0)\n",
    "cv2.destroyAllWindows()\n",
    "\n"
   ]
  }
 ],
 "metadata": {
  "language_info": {
   "name": "python"
  },
  "orig_nbformat": 4
 },
 "nbformat": 4,
 "nbformat_minor": 2
}
